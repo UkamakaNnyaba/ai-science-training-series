{
  "cells": [
    {
      "cell_type": "code",
      "execution_count": 2,
      "id": "662a93d1",
      "metadata": {
        "id": "662a93d1"
      },
      "outputs": [],
      "source": [
        "%load_ext autoreload\n",
        "%autoreload 2"
      ]
    },
    {
      "cell_type": "code",
      "execution_count": 3,
      "id": "e19878bb",
      "metadata": {
        "id": "e19878bb"
      },
      "outputs": [],
      "source": [
        "%matplotlib inline\n",
        "\n",
        "import tensorflow as tf\n",
        "\n",
        "import numpy\n",
        "import matplotlib.pyplot as plt"
      ]
    },
    {
      "cell_type": "code",
      "execution_count": 4,
      "id": "da412dba",
      "metadata": {
        "id": "da412dba",
        "outputId": "e3ec9af3-9074-45e3-8d23-ff5faa49888b",
        "colab": {
          "base_uri": "https://localhost:8080/"
        }
      },
      "outputs": [
        {
          "output_type": "stream",
          "name": "stdout",
          "text": [
            "Downloading data from https://storage.googleapis.com/tensorflow/tf-keras-datasets/mnist.npz\n",
            "11490434/11490434 [==============================] - 0s 0us/step\n",
            "(60000, 28, 28)\n",
            "(60000, 784)\n",
            "\n",
            "MNIST data loaded: train: 60000 test: 10000\n",
            "X_train: (60000, 784)\n",
            "y_train: (60000,)\n"
          ]
        }
      ],
      "source": [
        "# repeating the data prep from the previous notebook\n",
        "(x_train, y_train), (x_test, y_test) = tf.keras.datasets.mnist.load_data()\n",
        "x_train = x_train.astype(numpy.float32)\n",
        "x_test  = x_test.astype(numpy.float32)\n",
        "\n",
        "x_train /= 255.\n",
        "x_test  /= 255.\n",
        "\n",
        "print(x_train.shape)\n",
        "x_train = x_train.reshape(x_train.shape[0], numpy.prod(x_train[0,:,:].shape))\n",
        "x_test = x_test.reshape(x_test.shape[0], numpy.prod(x_test[0,:,:].shape))\n",
        "\n",
        "print(x_train.shape)\n",
        "y_train = y_train.astype(numpy.int32)\n",
        "y_test  = y_test.astype(numpy.int32)\n",
        "\n",
        "print()\n",
        "print('MNIST data loaded: train:',len(x_train),'test:',len(x_test))\n",
        "print('X_train:', x_train.shape)\n",
        "print('y_train:', y_train.shape)\n",
        "\n",
        "# one-hot encoding:\n",
        "nb_classes = 10\n",
        "y_train_onehot = tf.keras.utils.to_categorical(y_train, nb_classes)\n",
        "y_test_onehot = tf.keras.utils.to_categorical(y_test, nb_classes)"
      ]
    },
    {
      "cell_type": "code",
      "execution_count": 8,
      "id": "302994b1",
      "metadata": {
        "id": "302994b1"
      },
      "outputs": [],
      "source": [
        "# Here we import an implementation of a two-layer neural network \n",
        "# this code is based on pieces of the first assignment from Stanford's CSE231n course, \n",
        "# hosted at https://github.com/cs231n/cs231n.github.io with the MIT license\n",
        "from fc_net import TwoLayerNet"
      ]
    },
    {
      "cell_type": "code",
      "source": [
        "#!python fc_net.py"
      ],
      "metadata": {
        "id": "FLb8wP34IpLw"
      },
      "id": "FLb8wP34IpLw",
      "execution_count": 7,
      "outputs": []
    },
    {
      "cell_type": "code",
      "execution_count": 31,
      "id": "4e00e3de",
      "metadata": {
        "id": "4e00e3de"
      },
      "outputs": [],
      "source": [
        "num_features = x_train.shape[1] # this is the number of pixels\n",
        "# The weights are initialized from a normal distribution with standard deviation weight_scale\n",
        "model = TwoLayerNet(input_dim=num_features, hidden_dim=300, num_classes=nb_classes, weight_scale=.01)\n",
        "#model.params\n"
      ]
    },
    {
      "cell_type": "code",
      "execution_count": 32,
      "id": "32f7f1aa",
      "metadata": {
        "id": "32f7f1aa"
      },
      "outputs": [],
      "source": [
        "# here you can take a look if you want at the initial loss from an untrained network\n",
        "loss, gradients = model.loss(x_train, y_train_onehot)\n"
      ]
    },
    {
      "cell_type": "code",
      "execution_count": 33,
      "id": "c43e3aa5",
      "metadata": {
        "id": "c43e3aa5"
      },
      "outputs": [],
      "source": [
        "# a simple implementation of stochastic gradient descent\n",
        "def sgd(model, gradients, learning_rate):\n",
        "    for p, w in model.params.items():\n",
        "        dw = gradients[p]\n",
        "        new_weights = w - learning_rate * dw\n",
        "        model.params[p] = new_weights\n",
        "    return model"
      ]
    },
    {
      "cell_type": "code",
      "execution_count": 34,
      "id": "c8316228",
      "metadata": {
        "id": "c8316228"
      },
      "outputs": [],
      "source": [
        "# one training step\n",
        "def learn(model, x_train, y_train_onehot, learning_rate):\n",
        "    loss, gradients = model.loss(x_train, y_train_onehot)\n",
        "    model = sgd(model, gradients, learning_rate)\n",
        "    return loss, model"
      ]
    },
    {
      "cell_type": "code",
      "execution_count": 35,
      "id": "81886e8c",
      "metadata": {
        "id": "81886e8c"
      },
      "outputs": [],
      "source": [
        "def accuracy(model, x, true_values):\n",
        "    scores = model.loss(x)\n",
        "    predictions = numpy.argmax(scores, axis=1)\n",
        "    N = predictions.shape[0]\n",
        "    acc = (true_values == predictions).sum() / N\n",
        "    return acc"
      ]
    },
    {
      "cell_type": "code",
      "execution_count": 36,
      "id": "49754891",
      "metadata": {
        "id": "49754891",
        "outputId": "45f949bb-308c-4bfc-ff0e-966d9805a4d9",
        "colab": {
          "base_uri": "https://localhost:8080/",
          "height": 456
        }
      },
      "outputs": [
        {
          "output_type": "stream",
          "name": "stdout",
          "text": [
            "epoch 0, loss 2.30010, accuracy 0.18\n",
            "epoch 1, loss 2.29851, accuracy 0.23\n",
            "epoch 2, loss 2.29709, accuracy 0.27\n",
            "epoch 3, loss 2.29525, accuracy 0.31\n",
            "epoch 4, loss 2.29373, accuracy 0.34\n",
            "epoch 5, loss 2.29222, accuracy 0.37\n",
            "epoch 6, loss 2.29063, accuracy 0.39\n",
            "epoch 7, loss 2.28878, accuracy 0.42\n",
            "epoch 8, loss 2.28708, accuracy 0.44\n",
            "epoch 9, loss 2.28495, accuracy 0.46\n"
          ]
        },
        {
          "output_type": "execute_result",
          "data": {
            "text/plain": [
              "[<matplotlib.lines.Line2D at 0x7f69026f2a50>]"
            ]
          },
          "metadata": {},
          "execution_count": 36
        },
        {
          "output_type": "display_data",
          "data": {
            "text/plain": [
              "<Figure size 432x288 with 1 Axes>"
            ],
            "image/png": "[encoded data removed]"
          },
          "metadata": {
            "needs_background": "light"
          }
        }
      ],
      "source": [
        "# Here's an example training loop using this two-layer model. Can you do better? \n",
        "learning_rate = 0.01  \n",
        "num_examples = x_train.shape[0]\n",
        "batch_size = 10000\n",
        "num_batches = int(num_examples / batch_size)\n",
        "num_epochs = 10\n",
        "losses = numpy.zeros(num_batches*num_epochs,)\n",
        "indices = numpy.arange(num_examples)\n",
        "\n",
        "i = 0\n",
        "for epoch in range(0, num_epochs):\n",
        "    # in each epoch, we loop over all of the training examples\n",
        "    for step in range(0, num_batches):\n",
        "        # grabbing the next batch\n",
        "        offset = step * batch_size\n",
        "        batch_range = range(offset, offset+batch_size)\n",
        "        x_train_batch = x_train[batch_range, :]\n",
        "        y_train_batch = y_train_onehot[batch_range,:]\n",
        "        \n",
        "        # feed the next batch in to do one sgd step\n",
        "        loss, model = learn(model, x_train_batch, y_train_batch, learning_rate)\n",
        "        losses[i] = loss\n",
        "        i += 1\n",
        "\n",
        "    acc = accuracy(model, x_train, y_train)\n",
        "    print(\"epoch %d, loss %.5f, accuracy %.2f\" % (epoch, loss, acc))\n",
        "    \n",
        "    # reshuffle the data so that we get a new set of batches\n",
        "    numpy.random.shuffle(indices)\n",
        "    x_train = x_train[indices,:]\n",
        "    y_train = y_train[indices] # keep this shuffled the same way for use in accuracy calculation\n",
        "    y_train_onehot = y_train_onehot[indices,:]\n",
        "plt.plot(losses)"
      ]
    },
    {
      "cell_type": "code",
      "execution_count": 37,
      "id": "a4f274c6",
      "metadata": {
        "id": "a4f274c6",
        "outputId": "3eeccd86-2658-493c-d9ca-1d00385380f6",
        "colab": {
          "base_uri": "https://localhost:8080/"
        }
      },
      "outputs": [
        {
          "output_type": "execute_result",
          "data": {
            "text/plain": [
              "0.46195"
            ]
          },
          "metadata": {},
          "execution_count": 37
        }
      ],
      "source": [
        "accuracy(model, x_train, y_train)"
      ]
    },
    {
      "cell_type": "markdown",
      "id": "a2dd5728",
      "metadata": {
        "id": "a2dd5728"
      },
      "source": [
        "# Homework: improve the accuracy of this model. "
      ]
    },
    {
      "cell_type": "markdown",
      "id": "faaf0515",
      "metadata": {
        "id": "faaf0515"
      },
      "source": [
        "Update this notebook so that the accuracy is improved. How high can you get it? You could change things directly in the notebook, such as increasing the number of epochs, changing the learning weight, changing the width of the hidden layer, etc. If you're more ambitious, you could also try changing the model definition itself by checking out the associated Python files. For example, you could add more layers to the network. The current notebook has a training accuracy of about 43%, but will vary with randomness."
      ]
    },
    {
      "cell_type": "markdown",
      "source": [
        "**### Solution the the Exercise:**\n",
        "\n",
        "To improve the accuracy of this model, I tried increasing the learning rate, reducing the batch size, increasing the hidden dimension, the weight_scale and number of epochs. With these, I obtained an accuracy rate of 94.9% which is more than twice the accuracy obtained in the previous model. "
      ],
      "metadata": {
        "id": "2u3JQ6ttVbGf"
      },
      "id": "2u3JQ6ttVbGf"
    },
    {
      "cell_type": "code",
      "source": [
        "model2 = TwoLayerNet(input_dim=num_features, hidden_dim=1500, num_classes=nb_classes, weight_scale=.03)"
      ],
      "metadata": {
        "id": "wOZcjpbOcE2R"
      },
      "id": "wOZcjpbOcE2R",
      "execution_count": 38,
      "outputs": []
    },
    {
      "cell_type": "code",
      "source": [
        "loss2, gradients2 = model2.loss(x_train, y_train_onehot)"
      ],
      "metadata": {
        "id": "kAOcuq1jdMGc"
      },
      "id": "kAOcuq1jdMGc",
      "execution_count": 39,
      "outputs": []
    },
    {
      "cell_type": "code",
      "execution_count": 40,
      "id": "6e484c13",
      "metadata": {
        "id": "6e484c13",
        "outputId": "49d895e8-6136-4831-8aca-a68adf7f94c5",
        "colab": {
          "base_uri": "https://localhost:8080/",
          "height": 803
        }
      },
      "outputs": [
        {
          "output_type": "stream",
          "name": "stdout",
          "text": [
            "epoch 0, loss 0.72662, accuracy 0.86\n",
            "epoch 1, loss 0.49590, accuracy 0.88\n",
            "epoch 2, loss 0.42182, accuracy 0.89\n",
            "epoch 3, loss 0.35619, accuracy 0.90\n",
            "epoch 4, loss 0.34983, accuracy 0.90\n",
            "epoch 5, loss 0.32495, accuracy 0.91\n",
            "epoch 6, loss 0.33685, accuracy 0.91\n",
            "epoch 7, loss 0.30859, accuracy 0.92\n",
            "epoch 8, loss 0.30633, accuracy 0.92\n",
            "epoch 9, loss 0.26363, accuracy 0.92\n",
            "epoch 10, loss 0.28018, accuracy 0.92\n",
            "epoch 11, loss 0.28872, accuracy 0.93\n",
            "epoch 12, loss 0.24421, accuracy 0.93\n",
            "epoch 13, loss 0.27129, accuracy 0.93\n",
            "epoch 14, loss 0.23356, accuracy 0.93\n",
            "epoch 15, loss 0.24684, accuracy 0.93\n",
            "epoch 16, loss 0.21410, accuracy 0.93\n",
            "epoch 17, loss 0.23420, accuracy 0.94\n",
            "epoch 18, loss 0.23287, accuracy 0.94\n",
            "epoch 19, loss 0.21532, accuracy 0.94\n",
            "epoch 20, loss 0.22485, accuracy 0.94\n",
            "epoch 21, loss 0.22261, accuracy 0.94\n",
            "epoch 22, loss 0.17462, accuracy 0.94\n",
            "epoch 23, loss 0.20293, accuracy 0.94\n",
            "epoch 24, loss 0.19161, accuracy 0.94\n",
            "epoch 25, loss 0.20868, accuracy 0.95\n",
            "epoch 26, loss 0.18372, accuracy 0.95\n",
            "epoch 27, loss 0.19905, accuracy 0.95\n",
            "epoch 28, loss 0.20800, accuracy 0.95\n",
            "epoch 29, loss 0.17941, accuracy 0.95\n"
          ]
        },
        {
          "output_type": "execute_result",
          "data": {
            "text/plain": [
              "[<matplotlib.lines.Line2D at 0x7f6901bfd650>]"
            ]
          },
          "metadata": {},
          "execution_count": 40
        },
        {
          "output_type": "display_data",
          "data": {
            "text/plain": [
              "<Figure size 432x288 with 1 Axes>"
            ],
            "image/png": "[encoded data removed]"
          },
          "metadata": {
            "needs_background": "light"
          }
        }
      ],
      "source": [
        "learning_rate = 0.1  \n",
        "num_examples = x_train.shape[0]\n",
        "batch_size = 1500\n",
        "num_batches = int(num_examples / batch_size)\n",
        "num_epochs = 30\n",
        "#hidden_dim =1500\n",
        "losses = numpy.zeros(num_batches*num_epochs,)\n",
        "indices = numpy.arange(num_examples)\n",
        "\n",
        "i = 0\n",
        "for epoch in range(0, num_epochs):\n",
        "    # in each epoch, we loop over all of the training examples\n",
        "    for step in range(0, num_batches):\n",
        "        # grabbing the next batch\n",
        "        offset = step * batch_size\n",
        "        batch_range = range(offset, offset+batch_size)\n",
        "        x_train_batch = x_train[batch_range, :]\n",
        "        y_train_batch = y_train_onehot[batch_range,:]\n",
        "        \n",
        "        # feed the next batch in to do one sgd step\n",
        "        loss, model2 = learn(model2, x_train_batch, y_train_batch, learning_rate)\n",
        "        losses[i] = loss\n",
        "        i += 1\n",
        "\n",
        "    acc = accuracy(model2, x_train, y_train)\n",
        "    print(\"epoch %d, loss %.5f, accuracy %.2f\" % (epoch, loss, acc))\n",
        "    \n",
        "    # reshuffle the data so that we get a new set of batches\n",
        "    numpy.random.shuffle(indices)\n",
        "    x_train = x_train[indices,:]\n",
        "    y_train = y_train[indices] # keep this shuffled the same way for use in accuracy calculation\n",
        "    y_train_onehot = y_train_onehot[indices,:]\n",
        "plt.plot(losses)"
      ]
    },
    {
      "cell_type": "code",
      "source": [
        "accuracy(model2, x_train, y_train)"
      ],
      "metadata": {
        "id": "yD5GxMoveLKd",
        "outputId": "1a771ba3-4237-4351-b978-f21071a43d14",
        "colab": {
          "base_uri": "https://localhost:8080/"
        }
      },
      "id": "yD5GxMoveLKd",
      "execution_count": 41,
      "outputs": [
        {
          "output_type": "execute_result",
          "data": {
            "text/plain": [
              "0.94895"
            ]
          },
          "metadata": {},
          "execution_count": 41
        }
      ]
    }
  ],
  "metadata": {
    "kernelspec": {
      "display_name": "Python 3 (ipykernel)",
      "language": "python",
      "name": "python3"
    },
    "language_info": {
      "codemirror_mode": {
        "name": "ipython",
        "version": 3
      },
      "file_extension": ".py",
      "mimetype": "text/x-python",
      "name": "python",
      "nbconvert_exporter": "python",
      "pygments_lexer": "ipython3",
      "version": "3.7.4"
    },
    "colab": {
      "provenance": []
    },
    "accelerator": "GPU",
    "gpuClass": "standard"
  },
  "nbformat": 4,
  "nbformat_minor": 5
}