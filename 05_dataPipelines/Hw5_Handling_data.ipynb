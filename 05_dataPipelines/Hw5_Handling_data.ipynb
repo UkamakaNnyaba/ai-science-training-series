{
 "cells": [
  {
   "cell_type": "markdown",
   "id": "32651406",
   "metadata": {},
   "source": [
    "## Homework\n",
    "\n",
    "1. Vary the parallel_threads and prefetch_buffer_size parameters at the top of train_resnet34.py and make a table of how the mean image rate changes."
   ]
  },
  {
   "cell_type": "markdown",
   "id": "c092aa1f",
   "metadata": {},
   "source": [
    "### Answer\n",
    "\n",
    "In varying the parallel_threads and prefetch_buffer_size parameters, we obtain the following:\n",
    "\n",
    "| parallel_threads | prefetch_buffer_size | Mean image rate | standard deviation |\n",
    "| ---------------- | -------------------- | --------------- | ------------------- |\n",
    "| 128              | 8                    | 1135.19         | 75.58               |\n",
    "| 200              | 10                   | 1708.09         | 63.82               |\n",
    "\n",
    "I couldn't vary much because the thetagpu was not working."
   ]
  }
 ],
 "metadata": {
  "kernelspec": {
   "display_name": "Python 3 (ipykernel)",
   "language": "python",
   "name": "python3"
  },
  "language_info": {
   "codemirror_mode": {
    "name": "ipython",
    "version": 3
   },
   "file_extension": ".py",
   "mimetype": "text/x-python",
   "name": "python",
   "nbconvert_exporter": "python",
   "pygments_lexer": "ipython3",
   "version": "3.10.6"
  }
 },
 "nbformat": 4,
 "nbformat_minor": 5
}
