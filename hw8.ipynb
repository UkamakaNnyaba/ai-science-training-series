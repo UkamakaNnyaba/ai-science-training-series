{
  "nbformat": 4,
  "nbformat_minor": 0,
  "metadata": {
    "colab": {
      "provenance": [],
      "toc_visible": true,
      "authorship_tag": "ABX9TyPkj9stCtc2qpJY/Z3Exfhi",
      "include_colab_link": true
    },
    "kernelspec": {
      "name": "python3",
      "display_name": "Python 3"
    },
    "language_info": {
      "name": "python"
    }
  },
  "cells": [
    {
      "cell_type": "markdown",
      "metadata": {
        "id": "view-in-github",
        "colab_type": "text"
      },
      "source": [
        "<a href=\"https://colab.research.google.com/github/UkamakaNnyaba/ai-science-training-series/blob/main/hw8.ipynb\" target=\"_parent\"><img src=\"https://colab.research.google.com/assets/colab-badge.svg\" alt=\"Open In Colab\"/></a>"
      ]
    },
    {
      "cell_type": "markdown",
      "source": [],
      "metadata": {
        "id": "oQ8sBFUvYJXv"
      }
    },
    {
      "cell_type": "markdown",
      "source": [
        "** HOMEWORK 8**"
      ],
      "metadata": {
        "id": "lJFLw88tFcdF"
      }
    },
    {
      "cell_type": "markdown",
      "source": [
        "*italicized text*\n",
        "\n",
        "A problem that interests me is classification problem on functional data. AI could be used in this problem for analzing/cleaning the functional data, and applying some classification techniques in machine learning. I would use longitudinal data and time series data. Linear (Quadratic) discriminant analysis and deep neural network are appropriate for this kina of problem. I would use accuracy to measure success.\n",
        "\n",
        "\n",
        "\n"
      ],
      "metadata": {
        "id": "PiUH6m-eFdjQ"
      }
    }
  ]
}